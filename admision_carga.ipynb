{
 "cells": [
  {
   "cell_type": "markdown",
   "metadata": {},
   "source": [
    "## **Carga Data Admision**"
   ]
  },
  {
   "cell_type": "code",
   "execution_count": 1,
   "metadata": {},
   "outputs": [],
   "source": [
    "## Librerias\n",
    "\n",
    "import pandas as pd\n",
    "from sqlalchemy import create_engine"
   ]
  },
  {
   "cell_type": "code",
   "execution_count": 2,
   "metadata": {},
   "outputs": [],
   "source": [
    "# 🔗 Datos de conexión a SQL Server\n",
    "server = \"localhost\"  # O la dirección de tu servidor\n",
    "database = \"PROYECTOS\"  # Cambia por el nombre de tu base de datos\n",
    "username = \"sa\"\n",
    "password = \"HuerIrv_2797\"\n",
    "\n",
    "# 📌 Crear la conexión con SQL Server\n",
    "engine = create_engine(f\"mssql+pyodbc://{username}:{password}@{server}/{database}?driver=ODBC+Driver+17+for+SQL+Server\")\n"
   ]
  },
  {
   "cell_type": "markdown",
   "metadata": {},
   "source": [
    "### **Carga - Data Escuelas**"
   ]
  },
  {
   "cell_type": "code",
   "execution_count": 5,
   "metadata": {},
   "outputs": [
    {
     "data": {
      "application/vnd.microsoft.datawrangler.viewer.v0+json": {
       "columns": [
        {
         "name": "index",
         "rawType": "int64",
         "type": "integer"
        },
        {
         "name": "ESCUELA",
         "rawType": "object",
         "type": "string"
        },
        {
         "name": "CODIGO",
         "rawType": "int64",
         "type": "integer"
        }
       ],
       "conversionMethod": "pd.DataFrame",
       "ref": "4568e850-b501-4aa7-9916-4346e99424fa",
       "rows": [
        [
         "0",
         "DERECHO",
         "22"
        ],
        [
         "1",
         "DERECHO - VILLA RICA",
         "225"
        ],
        [
         "2",
         "CIENCIA POLÍTICA",
         "23"
        ],
        [
         "3",
         "LITERATURA",
         "31"
        ],
        [
         "4",
         "LENGUAS, TRADUCCIÓN E INTERPRETACIÓN",
         "310"
        ],
        [
         "5",
         "FILOSOFÍA",
         "33"
        ],
        [
         "6",
         "LINGUÍSTICA",
         "34"
        ],
        [
         "7",
         "COMUNICACIÓN SOCIAL",
         "35"
        ],
        [
         "8",
         "ARTE",
         "36"
        ],
        [
         "9",
         "BIBLIOTECOLOGÍA Y CIENCIAS DE LA INFORMACIÓN",
         "37"
        ],
        [
         "10",
         "DANZA",
         "38"
        ],
        [
         "11",
         "CONSERVACIÓN Y RESTAURACIÓN",
         "39"
        ],
        [
         "12",
         "EDUCACIÓN INICIAL",
         "611"
        ],
        [
         "13",
         "EDUCACIÓN PRIMARIA",
         "612"
        ],
        [
         "14",
         "EDUCACIÓN SECUNDARIA",
         "613"
        ],
        [
         "15",
         "EDUCACIÓN FÍSICA",
         "62"
        ],
        [
         "16",
         "EDUCACIÓN FÍSICA - OYÓN",
         "623"
        ],
        [
         "17",
         "QUÍMICA",
         "71"
        ],
        [
         "18",
         "INGENIERÍA QUÍMICA",
         "72"
        ],
        [
         "19",
         "INGENIERÍA AGROINDUSTRIAL",
         "73"
        ],
        [
         "20",
         "INGENIERIA DEL AGUA Y TECNOLOGIAS DE TRATAMIENTO",
         "74"
        ],
        [
         "21",
         "ADMINISTRACIÓN - LIMA",
         "91"
        ],
        [
         "22",
         "ADMINISTRACIÓN - S.J.L",
         "911"
        ],
        [
         "23",
         "ADMINISTRACIÓN - HUARAL",
         "912"
        ],
        [
         "24",
         "ADMINISTRACIÓN - CHILCA",
         "914"
        ],
        [
         "25",
         "ADMINISTRACIÓN - VILLA RICA",
         "915"
        ],
        [
         "26",
         "ADMINISTRACIÓN DE TURISMO - LIMA",
         "92"
        ],
        [
         "27",
         "ADMINISTRACIÓN DE TURISMO - S.J.L",
         "921"
        ],
        [
         "28",
         "ADMINISTRACIÓN DE TURISMO - HUARAL",
         "922"
        ],
        [
         "29",
         "ADMINISTRACIÓN DE NEGOCIOS INTERNACIONALES - LIMA",
         "93"
        ],
        [
         "30",
         "ADMINISTRACIÓN DE NEGOCIOS INTERNACIONALES - S.J.L",
         "931"
        ],
        [
         "31",
         "ADMINISTRACIÓN DE NEGOCIOS INTERNACIONALES - HUARAL",
         "932"
        ],
        [
         "32",
         "ADMINISTRACIÓN DE LA GASTRONOMÍA",
         "94"
        ],
        [
         "33",
         "ADMINISTRACIÓN MARÍTIMA Y PORTUARIA",
         "95"
        ],
        [
         "34",
         "ADMINISTRACION MARITIMA Y PORTUARIA - CHANCAY",
         "957"
        ],
        [
         "35",
         "MARKETING",
         "96"
        ],
        [
         "36",
         "CIENCIAS BIOLÓGICAS",
         "101"
        ],
        [
         "37",
         "GENÉTICA Y BIOTECNOLOGÍA",
         "102"
        ],
        [
         "38",
         "MICROBIOLOGÍA Y PARASITOLOGÍA",
         "103"
        ],
        [
         "39",
         "CONTABILIDAD - LIMA",
         "111"
        ],
        [
         "40",
         "CONTABILIDAD - S.J.L",
         "1111"
        ],
        [
         "41",
         "CONTABILIDAD - HUARAL",
         "1112"
        ],
        [
         "42",
         "CONTABILIDAD - OYÓN",
         "1113"
        ],
        [
         "43",
         "CONTABILIDAD - CHILCA",
         "1114"
        ],
        [
         "44",
         "CONTABILIDAD - VILLA RICA",
         "1115"
        ],
        [
         "45",
         "GESTIÓN TRIBUTARIA - LIMA",
         "112"
        ],
        [
         "46",
         "GESTIÓN TRIBUTARIA - S.J.L",
         "1121"
        ],
        [
         "47",
         "AUDITORÍA EMPRESARIAL Y DEL SECTOR PÚBLICO - LIMA",
         "113"
        ],
        [
         "48",
         "AUDITORÍA EMPRESARIAL Y DEL SECTOR PÚBLICO - S.J.L",
         "1131"
        ],
        [
         "49",
         "PRESUPUESTO Y FINANZAS PÚBLICAS - LIMA",
         "114"
        ]
       ],
       "shape": {
        "columns": 2,
        "rows": 93
       }
      },
      "text/html": [
       "<div>\n",
       "<style scoped>\n",
       "    .dataframe tbody tr th:only-of-type {\n",
       "        vertical-align: middle;\n",
       "    }\n",
       "\n",
       "    .dataframe tbody tr th {\n",
       "        vertical-align: top;\n",
       "    }\n",
       "\n",
       "    .dataframe thead th {\n",
       "        text-align: right;\n",
       "    }\n",
       "</style>\n",
       "<table border=\"1\" class=\"dataframe\">\n",
       "  <thead>\n",
       "    <tr style=\"text-align: right;\">\n",
       "      <th></th>\n",
       "      <th>ESCUELA</th>\n",
       "      <th>CODIGO</th>\n",
       "    </tr>\n",
       "  </thead>\n",
       "  <tbody>\n",
       "    <tr>\n",
       "      <th>0</th>\n",
       "      <td>DERECHO</td>\n",
       "      <td>22</td>\n",
       "    </tr>\n",
       "    <tr>\n",
       "      <th>1</th>\n",
       "      <td>DERECHO - VILLA RICA</td>\n",
       "      <td>225</td>\n",
       "    </tr>\n",
       "    <tr>\n",
       "      <th>2</th>\n",
       "      <td>CIENCIA POLÍTICA</td>\n",
       "      <td>23</td>\n",
       "    </tr>\n",
       "    <tr>\n",
       "      <th>3</th>\n",
       "      <td>LITERATURA</td>\n",
       "      <td>31</td>\n",
       "    </tr>\n",
       "    <tr>\n",
       "      <th>4</th>\n",
       "      <td>LENGUAS, TRADUCCIÓN E INTERPRETACIÓN</td>\n",
       "      <td>310</td>\n",
       "    </tr>\n",
       "    <tr>\n",
       "      <th>...</th>\n",
       "      <td>...</td>\n",
       "      <td>...</td>\n",
       "    </tr>\n",
       "    <tr>\n",
       "      <th>88</th>\n",
       "      <td>INGENIERIA NUCLEAR</td>\n",
       "      <td>195</td>\n",
       "    </tr>\n",
       "    <tr>\n",
       "      <th>89</th>\n",
       "      <td>INGENIERIA MECATRONICA</td>\n",
       "      <td>196</td>\n",
       "    </tr>\n",
       "    <tr>\n",
       "      <th>90</th>\n",
       "      <td>INGENIERÍA DE SISTEMAS</td>\n",
       "      <td>201</td>\n",
       "    </tr>\n",
       "    <tr>\n",
       "      <th>91</th>\n",
       "      <td>INGENIERÍA DE SOFTWARE</td>\n",
       "      <td>202</td>\n",
       "    </tr>\n",
       "    <tr>\n",
       "      <th>92</th>\n",
       "      <td>CIENCIA DE LA COMPUTACIÓN</td>\n",
       "      <td>203</td>\n",
       "    </tr>\n",
       "  </tbody>\n",
       "</table>\n",
       "<p>93 rows × 2 columns</p>\n",
       "</div>"
      ],
      "text/plain": [
       "                                 ESCUELA  CODIGO\n",
       "0                                DERECHO      22\n",
       "1                   DERECHO - VILLA RICA     225\n",
       "2                       CIENCIA POLÍTICA      23\n",
       "3                             LITERATURA      31\n",
       "4   LENGUAS, TRADUCCIÓN E INTERPRETACIÓN     310\n",
       "..                                   ...     ...\n",
       "88                    INGENIERIA NUCLEAR     195\n",
       "89                INGENIERIA MECATRONICA     196\n",
       "90                INGENIERÍA DE SISTEMAS     201\n",
       "91                INGENIERÍA DE SOFTWARE     202\n",
       "92             CIENCIA DE LA COMPUTACIÓN     203\n",
       "\n",
       "[93 rows x 2 columns]"
      ]
     },
     "execution_count": 5,
     "metadata": {},
     "output_type": "execute_result"
    }
   ],
   "source": [
    "ruta = r\"C:\\Users\\PC\\Desktop\\Proyectos\\Proyectos_Py\\8.ResultadosAdmision\\datos_admision\\escuela_admision_20252_PT1.csv\"\n",
    "data1 = pd.read_csv(ruta, sep = \"|\")\n",
    "data1"
   ]
  },
  {
   "cell_type": "code",
   "execution_count": 6,
   "metadata": {},
   "outputs": [
    {
     "data": {
      "application/vnd.microsoft.datawrangler.viewer.v0+json": {
       "columns": [
        {
         "name": "index",
         "rawType": "int64",
         "type": "integer"
        },
        {
         "name": "ESCUELA",
         "rawType": "object",
         "type": "string"
        },
        {
         "name": "CODIGO",
         "rawType": "int64",
         "type": "integer"
        }
       ],
       "conversionMethod": "pd.DataFrame",
       "ref": "1569daad-e075-4b3f-9f72-e2a41bcdbd68",
       "rows": [
        [
         "0",
         "MEDICINA HUMANA",
         "11"
        ],
        [
         "1",
         "OBSTETRICIA",
         "12"
        ],
        [
         "2",
         "ENFERMERÍA",
         "13"
        ],
        [
         "3",
         "TEC. MED. LAB. CLÍNICO Y ANATOMÍA PATOLÓGICA",
         "141"
        ],
        [
         "4",
         "TEC. MED. TERAPIA FÍSICA Y REHABILITACIÓN",
         "142"
        ],
        [
         "5",
         "TEC. MED. RADIOLOGÍA",
         "143"
        ],
        [
         "6",
         "TEC. MED. TERAPIA OCUPACIONAL",
         "144"
        ],
        [
         "7",
         "NUTRICION",
         "15"
        ],
        [
         "8",
         "FARMACIA Y BIOQUÍMICA",
         "41"
        ],
        [
         "9",
         "CIENCIAS DE LOS ALIMENTOS",
         "42"
        ],
        [
         "10",
         "TOXICOLOGÍA",
         "43"
        ],
        [
         "11",
         "ODONTOLOGÍA",
         "51"
        ],
        [
         "12",
         "MEDICINA VETERINARIA",
         "81"
        ],
        [
         "13",
         "PSICOLOGÍA",
         "181"
        ],
        [
         "14",
         "PSICOLOGÍA - CHILCA",
         "1814"
        ],
        [
         "15",
         "PSICOLOGÍA - VILLA RICA",
         "1815"
        ],
        [
         "16",
         "PSICOLOGÍA - HUARMEY",
         "1816"
        ],
        [
         "17",
         "PSICOLOGÍA ORGANIZACIONAL Y DE LA GESTIÓN HUMANA",
         "182"
        ]
       ],
       "shape": {
        "columns": 2,
        "rows": 18
       }
      },
      "text/html": [
       "<div>\n",
       "<style scoped>\n",
       "    .dataframe tbody tr th:only-of-type {\n",
       "        vertical-align: middle;\n",
       "    }\n",
       "\n",
       "    .dataframe tbody tr th {\n",
       "        vertical-align: top;\n",
       "    }\n",
       "\n",
       "    .dataframe thead th {\n",
       "        text-align: right;\n",
       "    }\n",
       "</style>\n",
       "<table border=\"1\" class=\"dataframe\">\n",
       "  <thead>\n",
       "    <tr style=\"text-align: right;\">\n",
       "      <th></th>\n",
       "      <th>ESCUELA</th>\n",
       "      <th>CODIGO</th>\n",
       "    </tr>\n",
       "  </thead>\n",
       "  <tbody>\n",
       "    <tr>\n",
       "      <th>0</th>\n",
       "      <td>MEDICINA HUMANA</td>\n",
       "      <td>11</td>\n",
       "    </tr>\n",
       "    <tr>\n",
       "      <th>1</th>\n",
       "      <td>OBSTETRICIA</td>\n",
       "      <td>12</td>\n",
       "    </tr>\n",
       "    <tr>\n",
       "      <th>2</th>\n",
       "      <td>ENFERMERÍA</td>\n",
       "      <td>13</td>\n",
       "    </tr>\n",
       "    <tr>\n",
       "      <th>3</th>\n",
       "      <td>TEC. MED. LAB. CLÍNICO Y ANATOMÍA PATOLÓGICA</td>\n",
       "      <td>141</td>\n",
       "    </tr>\n",
       "    <tr>\n",
       "      <th>4</th>\n",
       "      <td>TEC. MED. TERAPIA FÍSICA Y REHABILITACIÓN</td>\n",
       "      <td>142</td>\n",
       "    </tr>\n",
       "    <tr>\n",
       "      <th>5</th>\n",
       "      <td>TEC. MED. RADIOLOGÍA</td>\n",
       "      <td>143</td>\n",
       "    </tr>\n",
       "    <tr>\n",
       "      <th>6</th>\n",
       "      <td>TEC. MED. TERAPIA OCUPACIONAL</td>\n",
       "      <td>144</td>\n",
       "    </tr>\n",
       "    <tr>\n",
       "      <th>7</th>\n",
       "      <td>NUTRICION</td>\n",
       "      <td>15</td>\n",
       "    </tr>\n",
       "    <tr>\n",
       "      <th>8</th>\n",
       "      <td>FARMACIA Y BIOQUÍMICA</td>\n",
       "      <td>41</td>\n",
       "    </tr>\n",
       "    <tr>\n",
       "      <th>9</th>\n",
       "      <td>CIENCIAS DE LOS ALIMENTOS</td>\n",
       "      <td>42</td>\n",
       "    </tr>\n",
       "    <tr>\n",
       "      <th>10</th>\n",
       "      <td>TOXICOLOGÍA</td>\n",
       "      <td>43</td>\n",
       "    </tr>\n",
       "    <tr>\n",
       "      <th>11</th>\n",
       "      <td>ODONTOLOGÍA</td>\n",
       "      <td>51</td>\n",
       "    </tr>\n",
       "    <tr>\n",
       "      <th>12</th>\n",
       "      <td>MEDICINA VETERINARIA</td>\n",
       "      <td>81</td>\n",
       "    </tr>\n",
       "    <tr>\n",
       "      <th>13</th>\n",
       "      <td>PSICOLOGÍA</td>\n",
       "      <td>181</td>\n",
       "    </tr>\n",
       "    <tr>\n",
       "      <th>14</th>\n",
       "      <td>PSICOLOGÍA - CHILCA</td>\n",
       "      <td>1814</td>\n",
       "    </tr>\n",
       "    <tr>\n",
       "      <th>15</th>\n",
       "      <td>PSICOLOGÍA - VILLA RICA</td>\n",
       "      <td>1815</td>\n",
       "    </tr>\n",
       "    <tr>\n",
       "      <th>16</th>\n",
       "      <td>PSICOLOGÍA - HUARMEY</td>\n",
       "      <td>1816</td>\n",
       "    </tr>\n",
       "    <tr>\n",
       "      <th>17</th>\n",
       "      <td>PSICOLOGÍA ORGANIZACIONAL Y DE LA GESTIÓN HUMANA</td>\n",
       "      <td>182</td>\n",
       "    </tr>\n",
       "  </tbody>\n",
       "</table>\n",
       "</div>"
      ],
      "text/plain": [
       "                                             ESCUELA  CODIGO\n",
       "0                                    MEDICINA HUMANA      11\n",
       "1                                        OBSTETRICIA      12\n",
       "2                                         ENFERMERÍA      13\n",
       "3       TEC. MED. LAB. CLÍNICO Y ANATOMÍA PATOLÓGICA     141\n",
       "4          TEC. MED. TERAPIA FÍSICA Y REHABILITACIÓN     142\n",
       "5                               TEC. MED. RADIOLOGÍA     143\n",
       "6                      TEC. MED. TERAPIA OCUPACIONAL     144\n",
       "7                                          NUTRICION      15\n",
       "8                              FARMACIA Y BIOQUÍMICA      41\n",
       "9                          CIENCIAS DE LOS ALIMENTOS      42\n",
       "10                                       TOXICOLOGÍA      43\n",
       "11                                       ODONTOLOGÍA      51\n",
       "12                              MEDICINA VETERINARIA      81\n",
       "13                                        PSICOLOGÍA     181\n",
       "14                               PSICOLOGÍA - CHILCA    1814\n",
       "15                           PSICOLOGÍA - VILLA RICA    1815\n",
       "16                              PSICOLOGÍA - HUARMEY    1816\n",
       "17  PSICOLOGÍA ORGANIZACIONAL Y DE LA GESTIÓN HUMANA     182"
      ]
     },
     "execution_count": 6,
     "metadata": {},
     "output_type": "execute_result"
    }
   ],
   "source": [
    "ruta = r\"C:\\Users\\PC\\Desktop\\Proyectos\\Proyectos_Py\\8.ResultadosAdmision\\datos_admision\\escuela_admision_20252_PT2.csv\"\n",
    "data2 = pd.read_csv(ruta, sep = \"|\")\n",
    "data2"
   ]
  },
  {
   "cell_type": "code",
   "execution_count": 8,
   "metadata": {},
   "outputs": [
    {
     "data": {
      "application/vnd.microsoft.datawrangler.viewer.v0+json": {
       "columns": [
        {
         "name": "index",
         "rawType": "int64",
         "type": "integer"
        },
        {
         "name": "ESCUELA",
         "rawType": "object",
         "type": "string"
        },
        {
         "name": "CODIGO",
         "rawType": "int64",
         "type": "integer"
        }
       ],
       "conversionMethod": "pd.DataFrame",
       "ref": "2faf2fbd-b24d-48ec-8173-86bef97fc9a2",
       "rows": [
        [
         "0",
         "MEDICINA HUMANA",
         "11"
        ],
        [
         "1",
         "OBSTETRICIA",
         "12"
        ],
        [
         "2",
         "ENFERMERÍA",
         "13"
        ],
        [
         "3",
         "TEC. MED. LAB. CLÍNICO Y ANATOMÍA PATOLÓGICA",
         "141"
        ],
        [
         "4",
         "TEC. MED. TERAPIA FÍSICA Y REHABILITACIÓN",
         "142"
        ],
        [
         "5",
         "TEC. MED. RADIOLOGÍA",
         "143"
        ],
        [
         "6",
         "TEC. MED. TERAPIA OCUPACIONAL",
         "144"
        ],
        [
         "7",
         "NUTRICION",
         "15"
        ],
        [
         "8",
         "FARMACIA Y BIOQUÍMICA",
         "41"
        ],
        [
         "9",
         "CIENCIAS DE LOS ALIMENTOS",
         "42"
        ],
        [
         "10",
         "TOXICOLOGÍA",
         "43"
        ],
        [
         "11",
         "ODONTOLOGÍA",
         "51"
        ],
        [
         "12",
         "MEDICINA VETERINARIA",
         "81"
        ],
        [
         "13",
         "PSICOLOGÍA",
         "181"
        ],
        [
         "14",
         "PSICOLOGÍA - CHILCA",
         "1814"
        ],
        [
         "15",
         "PSICOLOGÍA - VILLA RICA",
         "1815"
        ],
        [
         "16",
         "PSICOLOGÍA - HUARMEY",
         "1816"
        ],
        [
         "17",
         "PSICOLOGÍA ORGANIZACIONAL Y DE LA GESTIÓN HUMANA",
         "182"
        ],
        [
         "0",
         "DERECHO",
         "22"
        ],
        [
         "1",
         "DERECHO - VILLA RICA",
         "225"
        ],
        [
         "2",
         "CIENCIA POLÍTICA",
         "23"
        ],
        [
         "3",
         "LITERATURA",
         "31"
        ],
        [
         "4",
         "LENGUAS, TRADUCCIÓN E INTERPRETACIÓN",
         "310"
        ],
        [
         "5",
         "FILOSOFÍA",
         "33"
        ],
        [
         "6",
         "LINGUÍSTICA",
         "34"
        ],
        [
         "7",
         "COMUNICACIÓN SOCIAL",
         "35"
        ],
        [
         "8",
         "ARTE",
         "36"
        ],
        [
         "9",
         "BIBLIOTECOLOGÍA Y CIENCIAS DE LA INFORMACIÓN",
         "37"
        ],
        [
         "10",
         "DANZA",
         "38"
        ],
        [
         "11",
         "CONSERVACIÓN Y RESTAURACIÓN",
         "39"
        ],
        [
         "12",
         "EDUCACIÓN INICIAL",
         "611"
        ],
        [
         "13",
         "EDUCACIÓN PRIMARIA",
         "612"
        ],
        [
         "14",
         "EDUCACIÓN SECUNDARIA",
         "613"
        ],
        [
         "15",
         "EDUCACIÓN FÍSICA",
         "62"
        ],
        [
         "16",
         "EDUCACIÓN FÍSICA - OYÓN",
         "623"
        ],
        [
         "17",
         "QUÍMICA",
         "71"
        ],
        [
         "18",
         "INGENIERÍA QUÍMICA",
         "72"
        ],
        [
         "19",
         "INGENIERÍA AGROINDUSTRIAL",
         "73"
        ],
        [
         "20",
         "INGENIERIA DEL AGUA Y TECNOLOGIAS DE TRATAMIENTO",
         "74"
        ],
        [
         "21",
         "ADMINISTRACIÓN - LIMA",
         "91"
        ],
        [
         "22",
         "ADMINISTRACIÓN - S.J.L",
         "911"
        ],
        [
         "23",
         "ADMINISTRACIÓN - HUARAL",
         "912"
        ],
        [
         "24",
         "ADMINISTRACIÓN - CHILCA",
         "914"
        ],
        [
         "25",
         "ADMINISTRACIÓN - VILLA RICA",
         "915"
        ],
        [
         "26",
         "ADMINISTRACIÓN DE TURISMO - LIMA",
         "92"
        ],
        [
         "27",
         "ADMINISTRACIÓN DE TURISMO - S.J.L",
         "921"
        ],
        [
         "28",
         "ADMINISTRACIÓN DE TURISMO - HUARAL",
         "922"
        ],
        [
         "29",
         "ADMINISTRACIÓN DE NEGOCIOS INTERNACIONALES - LIMA",
         "93"
        ],
        [
         "30",
         "ADMINISTRACIÓN DE NEGOCIOS INTERNACIONALES - S.J.L",
         "931"
        ],
        [
         "31",
         "ADMINISTRACIÓN DE NEGOCIOS INTERNACIONALES - HUARAL",
         "932"
        ]
       ],
       "shape": {
        "columns": 2,
        "rows": 111
       }
      },
      "text/html": [
       "<div>\n",
       "<style scoped>\n",
       "    .dataframe tbody tr th:only-of-type {\n",
       "        vertical-align: middle;\n",
       "    }\n",
       "\n",
       "    .dataframe tbody tr th {\n",
       "        vertical-align: top;\n",
       "    }\n",
       "\n",
       "    .dataframe thead th {\n",
       "        text-align: right;\n",
       "    }\n",
       "</style>\n",
       "<table border=\"1\" class=\"dataframe\">\n",
       "  <thead>\n",
       "    <tr style=\"text-align: right;\">\n",
       "      <th></th>\n",
       "      <th>ESCUELA</th>\n",
       "      <th>CODIGO</th>\n",
       "    </tr>\n",
       "  </thead>\n",
       "  <tbody>\n",
       "    <tr>\n",
       "      <th>0</th>\n",
       "      <td>MEDICINA HUMANA</td>\n",
       "      <td>11</td>\n",
       "    </tr>\n",
       "    <tr>\n",
       "      <th>1</th>\n",
       "      <td>OBSTETRICIA</td>\n",
       "      <td>12</td>\n",
       "    </tr>\n",
       "    <tr>\n",
       "      <th>2</th>\n",
       "      <td>ENFERMERÍA</td>\n",
       "      <td>13</td>\n",
       "    </tr>\n",
       "    <tr>\n",
       "      <th>3</th>\n",
       "      <td>TEC. MED. LAB. CLÍNICO Y ANATOMÍA PATOLÓGICA</td>\n",
       "      <td>141</td>\n",
       "    </tr>\n",
       "    <tr>\n",
       "      <th>4</th>\n",
       "      <td>TEC. MED. TERAPIA FÍSICA Y REHABILITACIÓN</td>\n",
       "      <td>142</td>\n",
       "    </tr>\n",
       "    <tr>\n",
       "      <th>...</th>\n",
       "      <td>...</td>\n",
       "      <td>...</td>\n",
       "    </tr>\n",
       "    <tr>\n",
       "      <th>88</th>\n",
       "      <td>INGENIERIA NUCLEAR</td>\n",
       "      <td>195</td>\n",
       "    </tr>\n",
       "    <tr>\n",
       "      <th>89</th>\n",
       "      <td>INGENIERIA MECATRONICA</td>\n",
       "      <td>196</td>\n",
       "    </tr>\n",
       "    <tr>\n",
       "      <th>90</th>\n",
       "      <td>INGENIERÍA DE SISTEMAS</td>\n",
       "      <td>201</td>\n",
       "    </tr>\n",
       "    <tr>\n",
       "      <th>91</th>\n",
       "      <td>INGENIERÍA DE SOFTWARE</td>\n",
       "      <td>202</td>\n",
       "    </tr>\n",
       "    <tr>\n",
       "      <th>92</th>\n",
       "      <td>CIENCIA DE LA COMPUTACIÓN</td>\n",
       "      <td>203</td>\n",
       "    </tr>\n",
       "  </tbody>\n",
       "</table>\n",
       "<p>111 rows × 2 columns</p>\n",
       "</div>"
      ],
      "text/plain": [
       "                                         ESCUELA  CODIGO\n",
       "0                                MEDICINA HUMANA      11\n",
       "1                                    OBSTETRICIA      12\n",
       "2                                     ENFERMERÍA      13\n",
       "3   TEC. MED. LAB. CLÍNICO Y ANATOMÍA PATOLÓGICA     141\n",
       "4      TEC. MED. TERAPIA FÍSICA Y REHABILITACIÓN     142\n",
       "..                                           ...     ...\n",
       "88                            INGENIERIA NUCLEAR     195\n",
       "89                        INGENIERIA MECATRONICA     196\n",
       "90                        INGENIERÍA DE SISTEMAS     201\n",
       "91                        INGENIERÍA DE SOFTWARE     202\n",
       "92                     CIENCIA DE LA COMPUTACIÓN     203\n",
       "\n",
       "[111 rows x 2 columns]"
      ]
     },
     "execution_count": 8,
     "metadata": {},
     "output_type": "execute_result"
    }
   ],
   "source": [
    "data = pd.concat([data2, data1])\n",
    "data"
   ]
  },
  {
   "cell_type": "code",
   "execution_count": 10,
   "metadata": {},
   "outputs": [
    {
     "name": "stdout",
     "output_type": "stream",
     "text": [
      "✅ Datos insertados con éxito en SQL Server\n"
     ]
    }
   ],
   "source": [
    "# 📤 Insertar los datos en la tabla (ajusta \"nombre_tabla\")\n",
    "data.to_sql(\"escuela_admision_202502\"\n",
    "        , engine\n",
    "        # , if_exists=\"append\"\n",
    "        , index=False)\n",
    "\n",
    "print(\"✅ Datos insertados con éxito en SQL Server\")"
   ]
  },
  {
   "cell_type": "markdown",
   "metadata": {},
   "source": [
    "### **Carga - Data Admision**"
   ]
  },
  {
   "cell_type": "code",
   "execution_count": 15,
   "metadata": {},
   "outputs": [
    {
     "data": {
      "application/vnd.microsoft.datawrangler.viewer.v0+json": {
       "columns": [
        {
         "name": "index",
         "rawType": "int64",
         "type": "integer"
        },
        {
         "name": "CODIGO_ESCUELA",
         "rawType": "int64",
         "type": "integer"
        },
        {
         "name": "CODIGO",
         "rawType": "int64",
         "type": "integer"
        },
        {
         "name": "APELLIDOS_NOMBRES",
         "rawType": "object",
         "type": "string"
        },
        {
         "name": "ESCUELA_PROFESIONAL",
         "rawType": "object",
         "type": "string"
        },
        {
         "name": "PUNTAJE",
         "rawType": "float64",
         "type": "float"
        },
        {
         "name": "MERITO",
         "rawType": "float64",
         "type": "float"
        },
        {
         "name": "OBS",
         "rawType": "object",
         "type": "unknown"
        },
        {
         "name": "ANIO",
         "rawType": "int64",
         "type": "integer"
        },
        {
         "name": "TIPO",
         "rawType": "int64",
         "type": "integer"
        }
       ],
       "conversionMethod": "pd.DataFrame",
       "ref": "3daf3184-b4d3-47e9-965f-e6e961634e50",
       "rows": [
        [
         "0",
         "22",
         "842720",
         "ABAD TABARA, VALERY NICOLE",
         "DERECHO",
         "723.875",
         null,
         null,
         "2025",
         "2"
        ],
        [
         "1",
         "22",
         "801992",
         "ABANTO HEREDIA, CARLOS JOSEPH",
         "DERECHO",
         "766.75",
         null,
         null,
         "2025",
         "2"
        ],
        [
         "2",
         "22",
         "760771",
         "ACCARAPI DE LA CRUZ, NAHOMY ROSSY",
         "DERECHO",
         "1333.0",
         "118.0",
         "ALCANZO VACANTE",
         "2025",
         "2"
        ],
        [
         "3",
         "22",
         "712401",
         "ACERO CLAROS, MICHAEL JHON",
         "DERECHO",
         "1366.25",
         "68.0",
         "ALCANZO VACANTE",
         "2025",
         "2"
        ],
        [
         "4",
         "22",
         "743914",
         "ACEVEDO ROJAS, JADE SAMIRA",
         "DERECHO",
         "1088.75",
         null,
         null,
         "2025",
         "2"
        ],
        [
         "5",
         "22",
         "789316",
         "ACHAMIZO AYALA, KARITHO RISONNY",
         "DERECHO",
         "1182.375",
         null,
         null,
         "2025",
         "2"
        ],
        [
         "6",
         "22",
         "839488",
         "ACUÑA VASQUEZ, KEISY",
         "DERECHO",
         "975.0",
         null,
         null,
         "2025",
         "2"
        ],
        [
         "7",
         "22",
         "758921",
         "ADAUTO VELEZMORO, PABLO CESAR",
         "DERECHO",
         "1144.5",
         null,
         null,
         "2025",
         "2"
        ],
        [
         "8",
         "22",
         "771047",
         "AGAMA QUILICHE, FERNANDO WILLIAM",
         "DERECHO",
         "626.375",
         null,
         null,
         "2025",
         "2"
        ],
        [
         "9",
         "22",
         "712997",
         "AGREDA TERRONES, ANGELINA SALOME",
         "DERECHO",
         "1041.375",
         null,
         null,
         "2025",
         "2"
        ],
        [
         "10",
         "22",
         "734517",
         "AGUADO REYNOSO, KATERINNE ELIZABETH",
         "DERECHO",
         "898.625",
         null,
         null,
         "2025",
         "2"
        ],
        [
         "11",
         "22",
         "773556",
         "AGÜERO MELCHOR, JULIO CESAR TADEO",
         "DERECHO",
         "1087.625",
         null,
         null,
         "2025",
         "2"
        ],
        [
         "12",
         "22",
         "836445",
         "AGUERO PEÑA, OMAR ESMIT",
         "DERECHO",
         "1074.75",
         null,
         null,
         "2025",
         "2"
        ],
        [
         "13",
         "22",
         "795253",
         "AGUILAR CANCHO, EDULY DANIKA",
         "DERECHO",
         "1280.0",
         null,
         null,
         "2025",
         "2"
        ],
        [
         "14",
         "22",
         "729447",
         "AGUILAR CORDOVA, HECTOR JOSE",
         "DERECHO",
         "1120.625",
         null,
         null,
         "2025",
         "2"
        ],
        [
         "15",
         "22",
         "735574",
         "AGUILAR ECHEVARRIA, JOAQUÍN RAÚL",
         "DERECHO",
         "1273.75",
         null,
         null,
         "2025",
         "2"
        ],
        [
         "16",
         "22",
         "805295",
         "AGUILAR FACUNDO, LEANDRO ENRIQUE",
         "DERECHO",
         "791.875",
         null,
         null,
         "2025",
         "2"
        ],
        [
         "17",
         "22",
         "796939",
         "AGUILAR MONTOYA, MIRELLA",
         "DERECHO",
         "1227.5",
         null,
         null,
         "2025",
         "2"
        ],
        [
         "18",
         "22",
         "815539",
         "AGUILAR TANTALEAN, ANA PAULA",
         "DERECHO",
         "1455.875",
         "13.0",
         "ALCANZO VACANTE",
         "2025",
         "2"
        ],
        [
         "19",
         "22",
         "789129",
         "AGUILAR VASQUEZ, AXEL EDU",
         "DERECHO",
         "975.125",
         null,
         null,
         "2025",
         "2"
        ],
        [
         "20",
         "22",
         "755984",
         "AGUIRRE ESTELA, LEONEL GIO LUCAS",
         "DERECHO",
         "1112.75",
         null,
         null,
         "2025",
         "2"
        ],
        [
         "21",
         "22",
         "750411",
         "AGUIRRE PAJARES, ANDERSON RICHARD",
         "DERECHO",
         "1080.75",
         null,
         null,
         "2025",
         "2"
        ],
        [
         "22",
         "22",
         "750210",
         "AGUIRRE PINTO, JOHNNY LUTHER",
         "DERECHO",
         "779.875",
         null,
         null,
         "2025",
         "2"
        ],
        [
         "23",
         "22",
         "769070",
         "AGUIRRE RODRIGUEZ, MARIANO DAVID",
         "DERECHO",
         "1052.75",
         null,
         null,
         "2025",
         "2"
        ],
        [
         "24",
         "22",
         "760074",
         "AGUIRRE SALAS, ADRIANA GRACIELA",
         "DERECHO",
         "1112.5",
         null,
         null,
         "2025",
         "2"
        ],
        [
         "25",
         "22",
         "774747",
         "AGUIRRE VALDEZ, ARIANA PAOLA",
         "DERECHO",
         "854.875",
         null,
         null,
         "2025",
         "2"
        ],
        [
         "26",
         "22",
         "768663",
         "ALA TAYPE, VERONICA",
         "DERECHO",
         "1008.75",
         null,
         null,
         "2025",
         "2"
        ],
        [
         "27",
         "22",
         "792217",
         "ALAGON PUMAYAULI, ESTRELLITA KRISTELL",
         "DERECHO",
         "870.0",
         null,
         null,
         "2025",
         "2"
        ],
        [
         "28",
         "22",
         "844046",
         "ALANYA QUISPE, ARIANA DANIELA",
         "DERECHO",
         "1151.5",
         null,
         null,
         "2025",
         "2"
        ],
        [
         "29",
         "22",
         "761055",
         "ALARCON ARTEAGA, ALONDRA LIZET",
         "DERECHO",
         "1335.375",
         "112.0",
         "ALCANZO VACANTE",
         "2025",
         "2"
        ],
        [
         "30",
         "22",
         "804812",
         "ALARCÓN CASTILLO, CINTHYA MARÍA",
         "DERECHO",
         "963.5",
         null,
         null,
         "2025",
         "2"
        ],
        [
         "31",
         "22",
         "764779",
         "ALARCON CASTRO, JENIFER YESENIA",
         "DERECHO",
         "968.125",
         null,
         null,
         "2025",
         "2"
        ],
        [
         "32",
         "22",
         "829864",
         "ALARCON CONDORI, JESSICA ADRIANA",
         "DERECHO",
         null,
         null,
         "AUSENTE",
         "2025",
         "2"
        ],
        [
         "33",
         "22",
         "725039",
         "ALARCÓN SANCHEZ, SAMIRA MELISSA",
         "DERECHO",
         "772.25",
         null,
         null,
         "2025",
         "2"
        ],
        [
         "34",
         "22",
         "753062",
         "ALATA TRIVEÑO, JAVIER GREGORIO",
         "DERECHO",
         "960.75",
         null,
         null,
         "2025",
         "2"
        ],
        [
         "35",
         "22",
         "829036",
         "ALBARRACIN ANDALUZ, TAMARA ROCIO",
         "DERECHO",
         "1121.75",
         null,
         null,
         "2025",
         "2"
        ],
        [
         "36",
         "22",
         "842012",
         "ALBINO RAMIREZ, MARICIELO CYNTHIA",
         "DERECHO",
         "896.875",
         null,
         null,
         "2025",
         "2"
        ],
        [
         "37",
         "22",
         "759144",
         "ALBORNOZ CHAUCA, JHOAO OSCAR ROGELIO",
         "DERECHO",
         "758.125",
         null,
         null,
         "2025",
         "2"
        ],
        [
         "38",
         "22",
         "707825",
         "ALBURQUEQUE CORAQUILLO, SOPHIA GIULIANNA",
         "DERECHO",
         "1155.0",
         null,
         null,
         "2025",
         "2"
        ],
        [
         "39",
         "22",
         "750494",
         "ALCALA ARNAO, GERALDINE KATHERINE",
         "DERECHO",
         "473.75",
         null,
         null,
         "2025",
         "2"
        ],
        [
         "40",
         "22",
         "752008",
         "ALCALA MONZON, MICAELA CRISTEL",
         "DERECHO",
         "1155.0",
         null,
         null,
         "2025",
         "2"
        ],
        [
         "41",
         "22",
         "760901",
         "ALCANTARA CALDERON, RAÚL EDMUNDO",
         "DERECHO",
         "1257.75",
         null,
         null,
         "2025",
         "2"
        ],
        [
         "42",
         "22",
         "760224",
         "ALCARRAZ ORE, JHERSSON SAUL",
         "DERECHO",
         "1146.25",
         null,
         null,
         "2025",
         "2"
        ],
        [
         "43",
         "22",
         "790246",
         "ALCARRAZ VALENZUELA, HEYDI PAMELA",
         "DERECHO",
         "1151.0",
         null,
         null,
         "2025",
         "2"
        ],
        [
         "44",
         "22",
         "764525",
         "ALCCA QUISPE, CHIARA MILAGROS",
         "DERECHO",
         "1379.375",
         "60.0",
         "ALCANZO VACANTE",
         "2025",
         "2"
        ],
        [
         "45",
         "22",
         "774208",
         "ALEGRE TUCTO, GRECIA MARÍA",
         "DERECHO",
         "801.125",
         null,
         null,
         "2025",
         "2"
        ],
        [
         "46",
         "22",
         "795148",
         "ALEJANDRIA TORERO, MARTIN ANDRE",
         "DERECHO",
         "1281.75",
         null,
         null,
         "2025",
         "2"
        ],
        [
         "47",
         "22",
         "748448",
         "ALEJO FALERO, CATHERINE NICOLY",
         "DERECHO",
         "1313.5",
         null,
         null,
         "2025",
         "2"
        ],
        [
         "48",
         "22",
         "820197",
         "ALEJO UGARTE, LUIS ANTONIO",
         "DERECHO",
         "861.5",
         null,
         null,
         "2025",
         "2"
        ],
        [
         "49",
         "22",
         "839824",
         "ALEJOS CASTILLO, YULISA YARELY",
         "DERECHO",
         "963.125",
         null,
         null,
         "2025",
         "2"
        ]
       ],
       "shape": {
        "columns": 9,
        "rows": 17794
       }
      },
      "text/html": [
       "<div>\n",
       "<style scoped>\n",
       "    .dataframe tbody tr th:only-of-type {\n",
       "        vertical-align: middle;\n",
       "    }\n",
       "\n",
       "    .dataframe tbody tr th {\n",
       "        vertical-align: top;\n",
       "    }\n",
       "\n",
       "    .dataframe thead th {\n",
       "        text-align: right;\n",
       "    }\n",
       "</style>\n",
       "<table border=\"1\" class=\"dataframe\">\n",
       "  <thead>\n",
       "    <tr style=\"text-align: right;\">\n",
       "      <th></th>\n",
       "      <th>CODIGO_ESCUELA</th>\n",
       "      <th>CODIGO</th>\n",
       "      <th>APELLIDOS_NOMBRES</th>\n",
       "      <th>ESCUELA_PROFESIONAL</th>\n",
       "      <th>PUNTAJE</th>\n",
       "      <th>MERITO</th>\n",
       "      <th>OBS</th>\n",
       "      <th>ANIO</th>\n",
       "      <th>TIPO</th>\n",
       "    </tr>\n",
       "  </thead>\n",
       "  <tbody>\n",
       "    <tr>\n",
       "      <th>0</th>\n",
       "      <td>22</td>\n",
       "      <td>842720</td>\n",
       "      <td>ABAD TABARA, VALERY NICOLE</td>\n",
       "      <td>DERECHO</td>\n",
       "      <td>723.875</td>\n",
       "      <td>NaN</td>\n",
       "      <td>NaN</td>\n",
       "      <td>2025</td>\n",
       "      <td>2</td>\n",
       "    </tr>\n",
       "    <tr>\n",
       "      <th>1</th>\n",
       "      <td>22</td>\n",
       "      <td>801992</td>\n",
       "      <td>ABANTO HEREDIA, CARLOS JOSEPH</td>\n",
       "      <td>DERECHO</td>\n",
       "      <td>766.750</td>\n",
       "      <td>NaN</td>\n",
       "      <td>NaN</td>\n",
       "      <td>2025</td>\n",
       "      <td>2</td>\n",
       "    </tr>\n",
       "    <tr>\n",
       "      <th>2</th>\n",
       "      <td>22</td>\n",
       "      <td>760771</td>\n",
       "      <td>ACCARAPI DE LA CRUZ, NAHOMY ROSSY</td>\n",
       "      <td>DERECHO</td>\n",
       "      <td>1333.000</td>\n",
       "      <td>118.0</td>\n",
       "      <td>ALCANZO VACANTE</td>\n",
       "      <td>2025</td>\n",
       "      <td>2</td>\n",
       "    </tr>\n",
       "    <tr>\n",
       "      <th>3</th>\n",
       "      <td>22</td>\n",
       "      <td>712401</td>\n",
       "      <td>ACERO CLAROS, MICHAEL JHON</td>\n",
       "      <td>DERECHO</td>\n",
       "      <td>1366.250</td>\n",
       "      <td>68.0</td>\n",
       "      <td>ALCANZO VACANTE</td>\n",
       "      <td>2025</td>\n",
       "      <td>2</td>\n",
       "    </tr>\n",
       "    <tr>\n",
       "      <th>4</th>\n",
       "      <td>22</td>\n",
       "      <td>743914</td>\n",
       "      <td>ACEVEDO ROJAS, JADE SAMIRA</td>\n",
       "      <td>DERECHO</td>\n",
       "      <td>1088.750</td>\n",
       "      <td>NaN</td>\n",
       "      <td>NaN</td>\n",
       "      <td>2025</td>\n",
       "      <td>2</td>\n",
       "    </tr>\n",
       "    <tr>\n",
       "      <th>...</th>\n",
       "      <td>...</td>\n",
       "      <td>...</td>\n",
       "      <td>...</td>\n",
       "      <td>...</td>\n",
       "      <td>...</td>\n",
       "      <td>...</td>\n",
       "      <td>...</td>\n",
       "      <td>...</td>\n",
       "      <td>...</td>\n",
       "    </tr>\n",
       "    <tr>\n",
       "      <th>17789</th>\n",
       "      <td>203</td>\n",
       "      <td>251118</td>\n",
       "      <td>VEGA ISUIZA, REYNALDO MAURICIO</td>\n",
       "      <td>CIENCIA DE LA COMPUTACIÓN</td>\n",
       "      <td>1321.375</td>\n",
       "      <td>6.0</td>\n",
       "      <td>ALCANZO VACANTE</td>\n",
       "      <td>2025</td>\n",
       "      <td>2</td>\n",
       "    </tr>\n",
       "    <tr>\n",
       "      <th>17790</th>\n",
       "      <td>203</td>\n",
       "      <td>288063</td>\n",
       "      <td>VILCAS OTAÑE, WILLIAMS JEFFREY</td>\n",
       "      <td>CIENCIA DE LA COMPUTACIÓN</td>\n",
       "      <td>1083.625</td>\n",
       "      <td>NaN</td>\n",
       "      <td>NaN</td>\n",
       "      <td>2025</td>\n",
       "      <td>2</td>\n",
       "    </tr>\n",
       "    <tr>\n",
       "      <th>17791</th>\n",
       "      <td>203</td>\n",
       "      <td>225656</td>\n",
       "      <td>WALDE NUREÑA, GABRIEL SEBASTIAN FRANCISCO</td>\n",
       "      <td>CIENCIA DE LA COMPUTACIÓN</td>\n",
       "      <td>1108.750</td>\n",
       "      <td>NaN</td>\n",
       "      <td>NaN</td>\n",
       "      <td>2025</td>\n",
       "      <td>2</td>\n",
       "    </tr>\n",
       "    <tr>\n",
       "      <th>17792</th>\n",
       "      <td>203</td>\n",
       "      <td>297750</td>\n",
       "      <td>ZARATE FERNANDEZ, NIKOLE RUBY</td>\n",
       "      <td>CIENCIA DE LA COMPUTACIÓN</td>\n",
       "      <td>1032.625</td>\n",
       "      <td>NaN</td>\n",
       "      <td>NaN</td>\n",
       "      <td>2025</td>\n",
       "      <td>2</td>\n",
       "    </tr>\n",
       "    <tr>\n",
       "      <th>17793</th>\n",
       "      <td>203</td>\n",
       "      <td>249967</td>\n",
       "      <td>ZAVALA ACOSTA, VICTOR HUGO</td>\n",
       "      <td>CIENCIA DE LA COMPUTACIÓN</td>\n",
       "      <td>900.125</td>\n",
       "      <td>NaN</td>\n",
       "      <td>NaN</td>\n",
       "      <td>2025</td>\n",
       "      <td>2</td>\n",
       "    </tr>\n",
       "  </tbody>\n",
       "</table>\n",
       "<p>17794 rows × 9 columns</p>\n",
       "</div>"
      ],
      "text/plain": [
       "       CODIGO_ESCUELA  CODIGO                          APELLIDOS_NOMBRES  \\\n",
       "0                  22  842720                 ABAD TABARA, VALERY NICOLE   \n",
       "1                  22  801992              ABANTO HEREDIA, CARLOS JOSEPH   \n",
       "2                  22  760771          ACCARAPI DE LA CRUZ, NAHOMY ROSSY   \n",
       "3                  22  712401                 ACERO CLAROS, MICHAEL JHON   \n",
       "4                  22  743914                 ACEVEDO ROJAS, JADE SAMIRA   \n",
       "...               ...     ...                                        ...   \n",
       "17789             203  251118             VEGA ISUIZA, REYNALDO MAURICIO   \n",
       "17790             203  288063             VILCAS OTAÑE, WILLIAMS JEFFREY   \n",
       "17791             203  225656  WALDE NUREÑA, GABRIEL SEBASTIAN FRANCISCO   \n",
       "17792             203  297750              ZARATE FERNANDEZ, NIKOLE RUBY   \n",
       "17793             203  249967                 ZAVALA ACOSTA, VICTOR HUGO   \n",
       "\n",
       "             ESCUELA_PROFESIONAL   PUNTAJE  MERITO              OBS  ANIO  \\\n",
       "0                        DERECHO   723.875     NaN              NaN  2025   \n",
       "1                        DERECHO   766.750     NaN              NaN  2025   \n",
       "2                        DERECHO  1333.000   118.0  ALCANZO VACANTE  2025   \n",
       "3                        DERECHO  1366.250    68.0  ALCANZO VACANTE  2025   \n",
       "4                        DERECHO  1088.750     NaN              NaN  2025   \n",
       "...                          ...       ...     ...              ...   ...   \n",
       "17789  CIENCIA DE LA COMPUTACIÓN  1321.375     6.0  ALCANZO VACANTE  2025   \n",
       "17790  CIENCIA DE LA COMPUTACIÓN  1083.625     NaN              NaN  2025   \n",
       "17791  CIENCIA DE LA COMPUTACIÓN  1108.750     NaN              NaN  2025   \n",
       "17792  CIENCIA DE LA COMPUTACIÓN  1032.625     NaN              NaN  2025   \n",
       "17793  CIENCIA DE LA COMPUTACIÓN   900.125     NaN              NaN  2025   \n",
       "\n",
       "       TIPO  \n",
       "0         2  \n",
       "1         2  \n",
       "2         2  \n",
       "3         2  \n",
       "4         2  \n",
       "...     ...  \n",
       "17789     2  \n",
       "17790     2  \n",
       "17791     2  \n",
       "17792     2  \n",
       "17793     2  \n",
       "\n",
       "[17794 rows x 9 columns]"
      ]
     },
     "execution_count": 15,
     "metadata": {},
     "output_type": "execute_result"
    }
   ],
   "source": [
    "ruta = r\"C:\\Users\\PC\\Desktop\\Proyectos\\Proyectos_Py\\8.ResultadosAdmision\\datos_admision\\data_admision_20252_PT1.csv\"\n",
    "data1 = pd.read_csv(ruta, sep = \"|\")\n",
    "data1"
   ]
  },
  {
   "cell_type": "code",
   "execution_count": 14,
   "metadata": {},
   "outputs": [
    {
     "data": {
      "application/vnd.microsoft.datawrangler.viewer.v0+json": {
       "columns": [
        {
         "name": "index",
         "rawType": "int64",
         "type": "integer"
        },
        {
         "name": "CODIGO_ESCUELA",
         "rawType": "int64",
         "type": "integer"
        },
        {
         "name": "CODIGO",
         "rawType": "int64",
         "type": "integer"
        },
        {
         "name": "APELLIDOS_NOMBRES",
         "rawType": "object",
         "type": "string"
        },
        {
         "name": "ESCUELA_PROFESIONAL",
         "rawType": "object",
         "type": "string"
        },
        {
         "name": "PUNTAJE",
         "rawType": "float64",
         "type": "float"
        },
        {
         "name": "MERITO",
         "rawType": "float64",
         "type": "float"
        },
        {
         "name": "OBS",
         "rawType": "object",
         "type": "unknown"
        },
        {
         "name": "ANIO",
         "rawType": "int64",
         "type": "integer"
        },
        {
         "name": "TIPO",
         "rawType": "int64",
         "type": "integer"
        }
       ],
       "conversionMethod": "pd.DataFrame",
       "ref": "8835b072-31e9-4648-8149-3316aee68fae",
       "rows": [
        [
         "0",
         "11",
         "877220",
         "ABAD CONCHA, MIKHAIL MARED MARZUK",
         "MEDICINA HUMANA",
         "1098.125",
         null,
         null,
         "2025",
         "2"
        ],
        [
         "1",
         "11",
         "861521",
         "ABAD CONDORI, DANITZA ROCIO",
         "MEDICINA HUMANA",
         "1127.875",
         null,
         null,
         "2025",
         "2"
        ],
        [
         "2",
         "11",
         "866556",
         "ABAD GOMEZ, EVELYN DAYANNA",
         "MEDICINA HUMANA",
         "818.875",
         null,
         null,
         "2025",
         "2"
        ],
        [
         "3",
         "11",
         "867339",
         "ABAN CASTILLO, THALIA XIMENA",
         "MEDICINA HUMANA",
         "504.25",
         null,
         null,
         "2025",
         "2"
        ],
        [
         "4",
         "11",
         "876347",
         "ABANTO BENITES, SAMANTHA SOFIA",
         "MEDICINA HUMANA",
         "775.875",
         null,
         null,
         "2025",
         "2"
        ],
        [
         "5",
         "11",
         "889183",
         "ABANTO GUIZADO, MATHIAS JOAQUIN",
         "MEDICINA HUMANA",
         "938.5",
         null,
         null,
         "2025",
         "2"
        ],
        [
         "6",
         "11",
         "893188",
         "ABARCA CHULLUNCUY, GABRIEL EDUARDO",
         "MEDICINA HUMANA",
         "1194.375",
         null,
         null,
         "2025",
         "2"
        ],
        [
         "7",
         "11",
         "898549",
         "ABARCA FLORES, SHARELLA ESTRELLA",
         "MEDICINA HUMANA",
         "371.0",
         null,
         null,
         "2025",
         "2"
        ],
        [
         "8",
         "11",
         "861825",
         "ABARCA HUAMAN, CRISTOBAL CRUZ",
         "MEDICINA HUMANA",
         "537.125",
         null,
         null,
         "2025",
         "2"
        ],
        [
         "9",
         "11",
         "885165",
         "ABELLANEDA CALDERON, ASLAN JOAQUIN",
         "MEDICINA HUMANA",
         "855.75",
         null,
         null,
         "2025",
         "2"
        ],
        [
         "10",
         "11",
         "860376",
         "ABREGU CAQUI, ALESSANDRA JUANA",
         "MEDICINA HUMANA",
         "520.625",
         null,
         null,
         "2025",
         "2"
        ],
        [
         "11",
         "11",
         "887541",
         "ABURTO ACOSTA, ANGELY SALOME",
         "MEDICINA HUMANA",
         "794.5",
         null,
         null,
         "2025",
         "2"
        ],
        [
         "12",
         "11",
         "892192",
         "ABURTO TEMPLE, EDDY BLAYDER",
         "MEDICINA HUMANA",
         "1140.125",
         null,
         null,
         "2025",
         "2"
        ],
        [
         "13",
         "11",
         "868146",
         "ACARAPI YANQUI, ANTHONY",
         "MEDICINA HUMANA",
         "675.375",
         null,
         null,
         "2025",
         "2"
        ],
        [
         "14",
         "11",
         "859125",
         "ACASIETE ARIAS, BIANCA XIMENA",
         "MEDICINA HUMANA",
         "628.0",
         null,
         null,
         "2025",
         "2"
        ],
        [
         "15",
         "11",
         "880071",
         "ACENCIO LAVADO, IVÁN RODRIGO",
         "MEDICINA HUMANA",
         "902.0",
         null,
         null,
         "2025",
         "2"
        ],
        [
         "16",
         "11",
         "855707",
         "ACERO RAMOS, ANDREA MILUSKA",
         "MEDICINA HUMANA",
         "663.875",
         null,
         null,
         "2025",
         "2"
        ],
        [
         "17",
         "11",
         "893688",
         "ACEVEDO CANCHO, MARCELO ALBERTO",
         "MEDICINA HUMANA",
         "827.25",
         null,
         null,
         "2025",
         "2"
        ],
        [
         "18",
         "11",
         "892113",
         "ACEVEDO MARIN, ANDREA CRISTINA",
         "MEDICINA HUMANA",
         "1253.75",
         null,
         null,
         "2025",
         "2"
        ],
        [
         "19",
         "11",
         "891635",
         "ACHA LOPEZ, CARLOS DANIEL MANUEL",
         "MEDICINA HUMANA",
         "1143.0",
         null,
         null,
         "2025",
         "2"
        ],
        [
         "20",
         "11",
         "862579",
         "ACHAMISO VARGAS, KELLY",
         "MEDICINA HUMANA",
         "736.375",
         null,
         null,
         "2025",
         "2"
        ],
        [
         "21",
         "11",
         "859174",
         "ACHAS ZAPATA, GABRIELA DAYANNA",
         "MEDICINA HUMANA",
         "647.0",
         null,
         null,
         "2025",
         "2"
        ],
        [
         "22",
         "11",
         "865636",
         "ACOSTA GARCIA, JUAN MATHIAS KEVIN",
         "MEDICINA HUMANA",
         "686.0",
         null,
         null,
         "2025",
         "2"
        ],
        [
         "23",
         "11",
         "855771",
         "ACOSTA GONZALES, SACHI SOFIA",
         "MEDICINA HUMANA",
         "605.375",
         null,
         null,
         "2025",
         "2"
        ],
        [
         "24",
         "11",
         "861027",
         "ACOSTA HOYOS, GIOAN ADRIANO",
         "MEDICINA HUMANA",
         "618.25",
         null,
         null,
         "2025",
         "2"
        ],
        [
         "25",
         "11",
         "866772",
         "ACOSTA SILVA, MARLON RUBEN",
         "MEDICINA HUMANA",
         "596.5",
         null,
         null,
         "2025",
         "2"
        ],
        [
         "26",
         "11",
         "850202",
         "ACUÑA BRAVO, JUAN DIEGO",
         "MEDICINA HUMANA",
         "924.875",
         null,
         null,
         "2025",
         "2"
        ],
        [
         "27",
         "11",
         "853860",
         "ACUÑA LLERENA, FRANCESCA JENNIFER",
         "MEDICINA HUMANA",
         "964.875",
         null,
         null,
         "2025",
         "2"
        ],
        [
         "28",
         "11",
         "889592",
         "ACUÑA SANDOVAL, YAMIR IDELSO",
         "MEDICINA HUMANA",
         "1342.625",
         null,
         null,
         "2025",
         "2"
        ],
        [
         "29",
         "11",
         "846220",
         "ACUÑA TORRES, GABRIELA ALESSANDRA",
         "MEDICINA HUMANA",
         "1362.25",
         "49.0",
         "ALCANZO VACANTE",
         "2025",
         "2"
        ],
        [
         "30",
         "11",
         "853758",
         "ACUÑA TORRES, VANESSA ANGELY",
         "MEDICINA HUMANA",
         "1248.625",
         null,
         null,
         "2025",
         "2"
        ],
        [
         "31",
         "11",
         "888771",
         "ACURIO CULLAMPE, MIGUEL ANGEL",
         "MEDICINA HUMANA",
         "853.5",
         null,
         null,
         "2025",
         "2"
        ],
        [
         "32",
         "11",
         "876025",
         "ADAN VILLAVICENCIO, MOISES ANGEL",
         "MEDICINA HUMANA",
         "1300.0",
         null,
         null,
         "2025",
         "2"
        ],
        [
         "33",
         "11",
         "883191",
         "ADRIANO AGESTO, ALESANDRO DEL PIERO",
         "MEDICINA HUMANA",
         "1036.125",
         null,
         null,
         "2025",
         "2"
        ],
        [
         "34",
         "11",
         "879202",
         "ADRIANZEN GARCIA, ROSA YAZURIT",
         "MEDICINA HUMANA",
         "545.75",
         null,
         null,
         "2025",
         "2"
        ],
        [
         "35",
         "11",
         "863037",
         "ADUVIRI ARUQUIPA, JUAN FERNANDO",
         "MEDICINA HUMANA",
         "848.375",
         null,
         null,
         "2025",
         "2"
        ],
        [
         "36",
         "11",
         "860580",
         "ADVINCULA CONDOR, JUAN MANUEL",
         "MEDICINA HUMANA",
         "728.875",
         null,
         null,
         "2025",
         "2"
        ],
        [
         "37",
         "11",
         "898063",
         "AFAN SEGOVIA, HEYDY DAYANA",
         "MEDICINA HUMANA",
         "798.125",
         null,
         null,
         "2025",
         "2"
        ],
        [
         "38",
         "11",
         "876036",
         "AGAMA QUISPE, IVÁN SANDRO",
         "MEDICINA HUMANA",
         "1211.5",
         null,
         null,
         "2025",
         "2"
        ],
        [
         "39",
         "11",
         "886700",
         "AGREDA SALAZAR, LIZ YOLANDA",
         "MEDICINA HUMANA",
         "361.875",
         null,
         null,
         "2025",
         "2"
        ],
        [
         "40",
         "11",
         "887012",
         "AGREDA VILLACORTA, ESTEFANY ALEXANDRA",
         "MEDICINA HUMANA",
         "986.75",
         null,
         null,
         "2025",
         "2"
        ],
        [
         "41",
         "11",
         "854761",
         "AGÜELA CASANOVA, BRUNO ALONSO",
         "MEDICINA HUMANA",
         "970.0",
         null,
         null,
         "2025",
         "2"
        ],
        [
         "42",
         "11",
         "893659",
         "AGUILAR BERROSPI, MIRELLA LIZET",
         "MEDICINA HUMANA",
         "1210.375",
         null,
         null,
         "2025",
         "2"
        ],
        [
         "43",
         "11",
         "888216",
         "AGUILAR JAUREGUI, ALONDRA SAMYRA",
         "MEDICINA HUMANA",
         "578.875",
         null,
         null,
         "2025",
         "2"
        ],
        [
         "44",
         "11",
         "852291",
         "AGUILAR LADERA, JAVIER FABIO",
         "MEDICINA HUMANA",
         "767.875",
         null,
         null,
         "2025",
         "2"
        ],
        [
         "45",
         "11",
         "858291",
         "AGUILAR LÓPEZ, CLARA NAYELY",
         "MEDICINA HUMANA",
         "1035.625",
         null,
         null,
         "2025",
         "2"
        ],
        [
         "46",
         "11",
         "874489",
         "AGUILAR MORALES, ALVARO PAOLO",
         "MEDICINA HUMANA",
         "600.375",
         null,
         null,
         "2025",
         "2"
        ],
        [
         "47",
         "11",
         "876118",
         "AGUILAR PAUCAR, JOEL KALED",
         "MEDICINA HUMANA",
         "1021.375",
         null,
         null,
         "2025",
         "2"
        ],
        [
         "48",
         "11",
         "876016",
         "AGUILAR RAMIREZ, XIMENA EMILY",
         "MEDICINA HUMANA",
         "1100.75",
         null,
         null,
         "2025",
         "2"
        ],
        [
         "49",
         "11",
         "868348",
         "AGUILAR TOLEDO, ADONIS ABI FELIX",
         "MEDICINA HUMANA",
         "955.125",
         null,
         null,
         "2025",
         "2"
        ]
       ],
       "shape": {
        "columns": 9,
        "rows": 9836
       }
      },
      "text/html": [
       "<div>\n",
       "<style scoped>\n",
       "    .dataframe tbody tr th:only-of-type {\n",
       "        vertical-align: middle;\n",
       "    }\n",
       "\n",
       "    .dataframe tbody tr th {\n",
       "        vertical-align: top;\n",
       "    }\n",
       "\n",
       "    .dataframe thead th {\n",
       "        text-align: right;\n",
       "    }\n",
       "</style>\n",
       "<table border=\"1\" class=\"dataframe\">\n",
       "  <thead>\n",
       "    <tr style=\"text-align: right;\">\n",
       "      <th></th>\n",
       "      <th>CODIGO_ESCUELA</th>\n",
       "      <th>CODIGO</th>\n",
       "      <th>APELLIDOS_NOMBRES</th>\n",
       "      <th>ESCUELA_PROFESIONAL</th>\n",
       "      <th>PUNTAJE</th>\n",
       "      <th>MERITO</th>\n",
       "      <th>OBS</th>\n",
       "      <th>ANIO</th>\n",
       "      <th>TIPO</th>\n",
       "    </tr>\n",
       "  </thead>\n",
       "  <tbody>\n",
       "    <tr>\n",
       "      <th>0</th>\n",
       "      <td>11</td>\n",
       "      <td>877220</td>\n",
       "      <td>ABAD CONCHA, MIKHAIL MARED MARZUK</td>\n",
       "      <td>MEDICINA HUMANA</td>\n",
       "      <td>1098.125</td>\n",
       "      <td>NaN</td>\n",
       "      <td>NaN</td>\n",
       "      <td>2025</td>\n",
       "      <td>2</td>\n",
       "    </tr>\n",
       "    <tr>\n",
       "      <th>1</th>\n",
       "      <td>11</td>\n",
       "      <td>861521</td>\n",
       "      <td>ABAD CONDORI, DANITZA ROCIO</td>\n",
       "      <td>MEDICINA HUMANA</td>\n",
       "      <td>1127.875</td>\n",
       "      <td>NaN</td>\n",
       "      <td>NaN</td>\n",
       "      <td>2025</td>\n",
       "      <td>2</td>\n",
       "    </tr>\n",
       "    <tr>\n",
       "      <th>2</th>\n",
       "      <td>11</td>\n",
       "      <td>866556</td>\n",
       "      <td>ABAD GOMEZ, EVELYN DAYANNA</td>\n",
       "      <td>MEDICINA HUMANA</td>\n",
       "      <td>818.875</td>\n",
       "      <td>NaN</td>\n",
       "      <td>NaN</td>\n",
       "      <td>2025</td>\n",
       "      <td>2</td>\n",
       "    </tr>\n",
       "    <tr>\n",
       "      <th>3</th>\n",
       "      <td>11</td>\n",
       "      <td>867339</td>\n",
       "      <td>ABAN CASTILLO, THALIA XIMENA</td>\n",
       "      <td>MEDICINA HUMANA</td>\n",
       "      <td>504.250</td>\n",
       "      <td>NaN</td>\n",
       "      <td>NaN</td>\n",
       "      <td>2025</td>\n",
       "      <td>2</td>\n",
       "    </tr>\n",
       "    <tr>\n",
       "      <th>4</th>\n",
       "      <td>11</td>\n",
       "      <td>876347</td>\n",
       "      <td>ABANTO BENITES, SAMANTHA SOFIA</td>\n",
       "      <td>MEDICINA HUMANA</td>\n",
       "      <td>775.875</td>\n",
       "      <td>NaN</td>\n",
       "      <td>NaN</td>\n",
       "      <td>2025</td>\n",
       "      <td>2</td>\n",
       "    </tr>\n",
       "    <tr>\n",
       "      <th>...</th>\n",
       "      <td>...</td>\n",
       "      <td>...</td>\n",
       "      <td>...</td>\n",
       "      <td>...</td>\n",
       "      <td>...</td>\n",
       "      <td>...</td>\n",
       "      <td>...</td>\n",
       "      <td>...</td>\n",
       "      <td>...</td>\n",
       "    </tr>\n",
       "    <tr>\n",
       "      <th>9831</th>\n",
       "      <td>182</td>\n",
       "      <td>176912</td>\n",
       "      <td>VILLANUEVA MAZA, RAID GAEL</td>\n",
       "      <td>PSICOLOGÍA ORGANIZACIONAL Y DE LA GESTIÓN HUMANA</td>\n",
       "      <td>600.500</td>\n",
       "      <td>NaN</td>\n",
       "      <td>NaN</td>\n",
       "      <td>2025</td>\n",
       "      <td>2</td>\n",
       "    </tr>\n",
       "    <tr>\n",
       "      <th>9832</th>\n",
       "      <td>182</td>\n",
       "      <td>103462</td>\n",
       "      <td>VILLARROEL SIHUAY, ANDY GABRIEL</td>\n",
       "      <td>PSICOLOGÍA ORGANIZACIONAL Y DE LA GESTIÓN HUMANA</td>\n",
       "      <td>712.500</td>\n",
       "      <td>NaN</td>\n",
       "      <td>NaN</td>\n",
       "      <td>2025</td>\n",
       "      <td>2</td>\n",
       "    </tr>\n",
       "    <tr>\n",
       "      <th>9833</th>\n",
       "      <td>182</td>\n",
       "      <td>165407</td>\n",
       "      <td>VILLOGAS PARRA, MATTHEW JOHAN</td>\n",
       "      <td>PSICOLOGÍA ORGANIZACIONAL Y DE LA GESTIÓN HUMANA</td>\n",
       "      <td>939.000</td>\n",
       "      <td>NaN</td>\n",
       "      <td>NaN</td>\n",
       "      <td>2025</td>\n",
       "      <td>2</td>\n",
       "    </tr>\n",
       "    <tr>\n",
       "      <th>9834</th>\n",
       "      <td>182</td>\n",
       "      <td>143202</td>\n",
       "      <td>ZAPATA QUISPE, JESÚS ANDRE</td>\n",
       "      <td>PSICOLOGÍA ORGANIZACIONAL Y DE LA GESTIÓN HUMANA</td>\n",
       "      <td>536.625</td>\n",
       "      <td>NaN</td>\n",
       "      <td>NaN</td>\n",
       "      <td>2025</td>\n",
       "      <td>2</td>\n",
       "    </tr>\n",
       "    <tr>\n",
       "      <th>9835</th>\n",
       "      <td>182</td>\n",
       "      <td>190200</td>\n",
       "      <td>ZUÑIGA TORRES, LUIS SEBASTIAN</td>\n",
       "      <td>PSICOLOGÍA ORGANIZACIONAL Y DE LA GESTIÓN HUMANA</td>\n",
       "      <td>801.000</td>\n",
       "      <td>NaN</td>\n",
       "      <td>NaN</td>\n",
       "      <td>2025</td>\n",
       "      <td>2</td>\n",
       "    </tr>\n",
       "  </tbody>\n",
       "</table>\n",
       "<p>9836 rows × 9 columns</p>\n",
       "</div>"
      ],
      "text/plain": [
       "      CODIGO_ESCUELA  CODIGO                  APELLIDOS_NOMBRES  \\\n",
       "0                 11  877220  ABAD CONCHA, MIKHAIL MARED MARZUK   \n",
       "1                 11  861521        ABAD CONDORI, DANITZA ROCIO   \n",
       "2                 11  866556         ABAD GOMEZ, EVELYN DAYANNA   \n",
       "3                 11  867339       ABAN CASTILLO, THALIA XIMENA   \n",
       "4                 11  876347     ABANTO BENITES, SAMANTHA SOFIA   \n",
       "...              ...     ...                                ...   \n",
       "9831             182  176912         VILLANUEVA MAZA, RAID GAEL   \n",
       "9832             182  103462    VILLARROEL SIHUAY, ANDY GABRIEL   \n",
       "9833             182  165407      VILLOGAS PARRA, MATTHEW JOHAN   \n",
       "9834             182  143202         ZAPATA QUISPE, JESÚS ANDRE   \n",
       "9835             182  190200      ZUÑIGA TORRES, LUIS SEBASTIAN   \n",
       "\n",
       "                                   ESCUELA_PROFESIONAL   PUNTAJE  MERITO  OBS  \\\n",
       "0                                      MEDICINA HUMANA  1098.125     NaN  NaN   \n",
       "1                                      MEDICINA HUMANA  1127.875     NaN  NaN   \n",
       "2                                      MEDICINA HUMANA   818.875     NaN  NaN   \n",
       "3                                      MEDICINA HUMANA   504.250     NaN  NaN   \n",
       "4                                      MEDICINA HUMANA   775.875     NaN  NaN   \n",
       "...                                                ...       ...     ...  ...   \n",
       "9831  PSICOLOGÍA ORGANIZACIONAL Y DE LA GESTIÓN HUMANA   600.500     NaN  NaN   \n",
       "9832  PSICOLOGÍA ORGANIZACIONAL Y DE LA GESTIÓN HUMANA   712.500     NaN  NaN   \n",
       "9833  PSICOLOGÍA ORGANIZACIONAL Y DE LA GESTIÓN HUMANA   939.000     NaN  NaN   \n",
       "9834  PSICOLOGÍA ORGANIZACIONAL Y DE LA GESTIÓN HUMANA   536.625     NaN  NaN   \n",
       "9835  PSICOLOGÍA ORGANIZACIONAL Y DE LA GESTIÓN HUMANA   801.000     NaN  NaN   \n",
       "\n",
       "      ANIO  TIPO  \n",
       "0     2025     2  \n",
       "1     2025     2  \n",
       "2     2025     2  \n",
       "3     2025     2  \n",
       "4     2025     2  \n",
       "...    ...   ...  \n",
       "9831  2025     2  \n",
       "9832  2025     2  \n",
       "9833  2025     2  \n",
       "9834  2025     2  \n",
       "9835  2025     2  \n",
       "\n",
       "[9836 rows x 9 columns]"
      ]
     },
     "execution_count": 14,
     "metadata": {},
     "output_type": "execute_result"
    }
   ],
   "source": [
    "ruta = r\"C:\\Users\\PC\\Desktop\\Proyectos\\Proyectos_Py\\8.ResultadosAdmision\\datos_admision\\data_admision_20252_PT2.csv\"\n",
    "data2 = pd.read_csv(ruta, sep = \"|\")\n",
    "data2"
   ]
  },
  {
   "cell_type": "code",
   "execution_count": 16,
   "metadata": {},
   "outputs": [
    {
     "data": {
      "application/vnd.microsoft.datawrangler.viewer.v0+json": {
       "columns": [
        {
         "name": "index",
         "rawType": "int64",
         "type": "integer"
        },
        {
         "name": "CODIGO_ESCUELA",
         "rawType": "int64",
         "type": "integer"
        },
        {
         "name": "CODIGO",
         "rawType": "int64",
         "type": "integer"
        },
        {
         "name": "APELLIDOS_NOMBRES",
         "rawType": "object",
         "type": "string"
        },
        {
         "name": "ESCUELA_PROFESIONAL",
         "rawType": "object",
         "type": "string"
        },
        {
         "name": "PUNTAJE",
         "rawType": "float64",
         "type": "float"
        },
        {
         "name": "MERITO",
         "rawType": "float64",
         "type": "float"
        },
        {
         "name": "OBS",
         "rawType": "object",
         "type": "unknown"
        },
        {
         "name": "ANIO",
         "rawType": "int64",
         "type": "integer"
        },
        {
         "name": "TIPO",
         "rawType": "int64",
         "type": "integer"
        }
       ],
       "conversionMethod": "pd.DataFrame",
       "ref": "54983b48-d292-47fb-b708-88478bc993bb",
       "rows": [
        [
         "0",
         "11",
         "877220",
         "ABAD CONCHA, MIKHAIL MARED MARZUK",
         "MEDICINA HUMANA",
         "1098.125",
         null,
         null,
         "2025",
         "2"
        ],
        [
         "1",
         "11",
         "861521",
         "ABAD CONDORI, DANITZA ROCIO",
         "MEDICINA HUMANA",
         "1127.875",
         null,
         null,
         "2025",
         "2"
        ],
        [
         "2",
         "11",
         "866556",
         "ABAD GOMEZ, EVELYN DAYANNA",
         "MEDICINA HUMANA",
         "818.875",
         null,
         null,
         "2025",
         "2"
        ],
        [
         "3",
         "11",
         "867339",
         "ABAN CASTILLO, THALIA XIMENA",
         "MEDICINA HUMANA",
         "504.25",
         null,
         null,
         "2025",
         "2"
        ],
        [
         "4",
         "11",
         "876347",
         "ABANTO BENITES, SAMANTHA SOFIA",
         "MEDICINA HUMANA",
         "775.875",
         null,
         null,
         "2025",
         "2"
        ],
        [
         "5",
         "11",
         "889183",
         "ABANTO GUIZADO, MATHIAS JOAQUIN",
         "MEDICINA HUMANA",
         "938.5",
         null,
         null,
         "2025",
         "2"
        ],
        [
         "6",
         "11",
         "893188",
         "ABARCA CHULLUNCUY, GABRIEL EDUARDO",
         "MEDICINA HUMANA",
         "1194.375",
         null,
         null,
         "2025",
         "2"
        ],
        [
         "7",
         "11",
         "898549",
         "ABARCA FLORES, SHARELLA ESTRELLA",
         "MEDICINA HUMANA",
         "371.0",
         null,
         null,
         "2025",
         "2"
        ],
        [
         "8",
         "11",
         "861825",
         "ABARCA HUAMAN, CRISTOBAL CRUZ",
         "MEDICINA HUMANA",
         "537.125",
         null,
         null,
         "2025",
         "2"
        ],
        [
         "9",
         "11",
         "885165",
         "ABELLANEDA CALDERON, ASLAN JOAQUIN",
         "MEDICINA HUMANA",
         "855.75",
         null,
         null,
         "2025",
         "2"
        ],
        [
         "10",
         "11",
         "860376",
         "ABREGU CAQUI, ALESSANDRA JUANA",
         "MEDICINA HUMANA",
         "520.625",
         null,
         null,
         "2025",
         "2"
        ],
        [
         "11",
         "11",
         "887541",
         "ABURTO ACOSTA, ANGELY SALOME",
         "MEDICINA HUMANA",
         "794.5",
         null,
         null,
         "2025",
         "2"
        ],
        [
         "12",
         "11",
         "892192",
         "ABURTO TEMPLE, EDDY BLAYDER",
         "MEDICINA HUMANA",
         "1140.125",
         null,
         null,
         "2025",
         "2"
        ],
        [
         "13",
         "11",
         "868146",
         "ACARAPI YANQUI, ANTHONY",
         "MEDICINA HUMANA",
         "675.375",
         null,
         null,
         "2025",
         "2"
        ],
        [
         "14",
         "11",
         "859125",
         "ACASIETE ARIAS, BIANCA XIMENA",
         "MEDICINA HUMANA",
         "628.0",
         null,
         null,
         "2025",
         "2"
        ],
        [
         "15",
         "11",
         "880071",
         "ACENCIO LAVADO, IVÁN RODRIGO",
         "MEDICINA HUMANA",
         "902.0",
         null,
         null,
         "2025",
         "2"
        ],
        [
         "16",
         "11",
         "855707",
         "ACERO RAMOS, ANDREA MILUSKA",
         "MEDICINA HUMANA",
         "663.875",
         null,
         null,
         "2025",
         "2"
        ],
        [
         "17",
         "11",
         "893688",
         "ACEVEDO CANCHO, MARCELO ALBERTO",
         "MEDICINA HUMANA",
         "827.25",
         null,
         null,
         "2025",
         "2"
        ],
        [
         "18",
         "11",
         "892113",
         "ACEVEDO MARIN, ANDREA CRISTINA",
         "MEDICINA HUMANA",
         "1253.75",
         null,
         null,
         "2025",
         "2"
        ],
        [
         "19",
         "11",
         "891635",
         "ACHA LOPEZ, CARLOS DANIEL MANUEL",
         "MEDICINA HUMANA",
         "1143.0",
         null,
         null,
         "2025",
         "2"
        ],
        [
         "20",
         "11",
         "862579",
         "ACHAMISO VARGAS, KELLY",
         "MEDICINA HUMANA",
         "736.375",
         null,
         null,
         "2025",
         "2"
        ],
        [
         "21",
         "11",
         "859174",
         "ACHAS ZAPATA, GABRIELA DAYANNA",
         "MEDICINA HUMANA",
         "647.0",
         null,
         null,
         "2025",
         "2"
        ],
        [
         "22",
         "11",
         "865636",
         "ACOSTA GARCIA, JUAN MATHIAS KEVIN",
         "MEDICINA HUMANA",
         "686.0",
         null,
         null,
         "2025",
         "2"
        ],
        [
         "23",
         "11",
         "855771",
         "ACOSTA GONZALES, SACHI SOFIA",
         "MEDICINA HUMANA",
         "605.375",
         null,
         null,
         "2025",
         "2"
        ],
        [
         "24",
         "11",
         "861027",
         "ACOSTA HOYOS, GIOAN ADRIANO",
         "MEDICINA HUMANA",
         "618.25",
         null,
         null,
         "2025",
         "2"
        ],
        [
         "25",
         "11",
         "866772",
         "ACOSTA SILVA, MARLON RUBEN",
         "MEDICINA HUMANA",
         "596.5",
         null,
         null,
         "2025",
         "2"
        ],
        [
         "26",
         "11",
         "850202",
         "ACUÑA BRAVO, JUAN DIEGO",
         "MEDICINA HUMANA",
         "924.875",
         null,
         null,
         "2025",
         "2"
        ],
        [
         "27",
         "11",
         "853860",
         "ACUÑA LLERENA, FRANCESCA JENNIFER",
         "MEDICINA HUMANA",
         "964.875",
         null,
         null,
         "2025",
         "2"
        ],
        [
         "28",
         "11",
         "889592",
         "ACUÑA SANDOVAL, YAMIR IDELSO",
         "MEDICINA HUMANA",
         "1342.625",
         null,
         null,
         "2025",
         "2"
        ],
        [
         "29",
         "11",
         "846220",
         "ACUÑA TORRES, GABRIELA ALESSANDRA",
         "MEDICINA HUMANA",
         "1362.25",
         "49.0",
         "ALCANZO VACANTE",
         "2025",
         "2"
        ],
        [
         "30",
         "11",
         "853758",
         "ACUÑA TORRES, VANESSA ANGELY",
         "MEDICINA HUMANA",
         "1248.625",
         null,
         null,
         "2025",
         "2"
        ],
        [
         "31",
         "11",
         "888771",
         "ACURIO CULLAMPE, MIGUEL ANGEL",
         "MEDICINA HUMANA",
         "853.5",
         null,
         null,
         "2025",
         "2"
        ],
        [
         "32",
         "11",
         "876025",
         "ADAN VILLAVICENCIO, MOISES ANGEL",
         "MEDICINA HUMANA",
         "1300.0",
         null,
         null,
         "2025",
         "2"
        ],
        [
         "33",
         "11",
         "883191",
         "ADRIANO AGESTO, ALESANDRO DEL PIERO",
         "MEDICINA HUMANA",
         "1036.125",
         null,
         null,
         "2025",
         "2"
        ],
        [
         "34",
         "11",
         "879202",
         "ADRIANZEN GARCIA, ROSA YAZURIT",
         "MEDICINA HUMANA",
         "545.75",
         null,
         null,
         "2025",
         "2"
        ],
        [
         "35",
         "11",
         "863037",
         "ADUVIRI ARUQUIPA, JUAN FERNANDO",
         "MEDICINA HUMANA",
         "848.375",
         null,
         null,
         "2025",
         "2"
        ],
        [
         "36",
         "11",
         "860580",
         "ADVINCULA CONDOR, JUAN MANUEL",
         "MEDICINA HUMANA",
         "728.875",
         null,
         null,
         "2025",
         "2"
        ],
        [
         "37",
         "11",
         "898063",
         "AFAN SEGOVIA, HEYDY DAYANA",
         "MEDICINA HUMANA",
         "798.125",
         null,
         null,
         "2025",
         "2"
        ],
        [
         "38",
         "11",
         "876036",
         "AGAMA QUISPE, IVÁN SANDRO",
         "MEDICINA HUMANA",
         "1211.5",
         null,
         null,
         "2025",
         "2"
        ],
        [
         "39",
         "11",
         "886700",
         "AGREDA SALAZAR, LIZ YOLANDA",
         "MEDICINA HUMANA",
         "361.875",
         null,
         null,
         "2025",
         "2"
        ],
        [
         "40",
         "11",
         "887012",
         "AGREDA VILLACORTA, ESTEFANY ALEXANDRA",
         "MEDICINA HUMANA",
         "986.75",
         null,
         null,
         "2025",
         "2"
        ],
        [
         "41",
         "11",
         "854761",
         "AGÜELA CASANOVA, BRUNO ALONSO",
         "MEDICINA HUMANA",
         "970.0",
         null,
         null,
         "2025",
         "2"
        ],
        [
         "42",
         "11",
         "893659",
         "AGUILAR BERROSPI, MIRELLA LIZET",
         "MEDICINA HUMANA",
         "1210.375",
         null,
         null,
         "2025",
         "2"
        ],
        [
         "43",
         "11",
         "888216",
         "AGUILAR JAUREGUI, ALONDRA SAMYRA",
         "MEDICINA HUMANA",
         "578.875",
         null,
         null,
         "2025",
         "2"
        ],
        [
         "44",
         "11",
         "852291",
         "AGUILAR LADERA, JAVIER FABIO",
         "MEDICINA HUMANA",
         "767.875",
         null,
         null,
         "2025",
         "2"
        ],
        [
         "45",
         "11",
         "858291",
         "AGUILAR LÓPEZ, CLARA NAYELY",
         "MEDICINA HUMANA",
         "1035.625",
         null,
         null,
         "2025",
         "2"
        ],
        [
         "46",
         "11",
         "874489",
         "AGUILAR MORALES, ALVARO PAOLO",
         "MEDICINA HUMANA",
         "600.375",
         null,
         null,
         "2025",
         "2"
        ],
        [
         "47",
         "11",
         "876118",
         "AGUILAR PAUCAR, JOEL KALED",
         "MEDICINA HUMANA",
         "1021.375",
         null,
         null,
         "2025",
         "2"
        ],
        [
         "48",
         "11",
         "876016",
         "AGUILAR RAMIREZ, XIMENA EMILY",
         "MEDICINA HUMANA",
         "1100.75",
         null,
         null,
         "2025",
         "2"
        ],
        [
         "49",
         "11",
         "868348",
         "AGUILAR TOLEDO, ADONIS ABI FELIX",
         "MEDICINA HUMANA",
         "955.125",
         null,
         null,
         "2025",
         "2"
        ]
       ],
       "shape": {
        "columns": 9,
        "rows": 27630
       }
      },
      "text/html": [
       "<div>\n",
       "<style scoped>\n",
       "    .dataframe tbody tr th:only-of-type {\n",
       "        vertical-align: middle;\n",
       "    }\n",
       "\n",
       "    .dataframe tbody tr th {\n",
       "        vertical-align: top;\n",
       "    }\n",
       "\n",
       "    .dataframe thead th {\n",
       "        text-align: right;\n",
       "    }\n",
       "</style>\n",
       "<table border=\"1\" class=\"dataframe\">\n",
       "  <thead>\n",
       "    <tr style=\"text-align: right;\">\n",
       "      <th></th>\n",
       "      <th>CODIGO_ESCUELA</th>\n",
       "      <th>CODIGO</th>\n",
       "      <th>APELLIDOS_NOMBRES</th>\n",
       "      <th>ESCUELA_PROFESIONAL</th>\n",
       "      <th>PUNTAJE</th>\n",
       "      <th>MERITO</th>\n",
       "      <th>OBS</th>\n",
       "      <th>ANIO</th>\n",
       "      <th>TIPO</th>\n",
       "    </tr>\n",
       "  </thead>\n",
       "  <tbody>\n",
       "    <tr>\n",
       "      <th>0</th>\n",
       "      <td>11</td>\n",
       "      <td>877220</td>\n",
       "      <td>ABAD CONCHA, MIKHAIL MARED MARZUK</td>\n",
       "      <td>MEDICINA HUMANA</td>\n",
       "      <td>1098.125</td>\n",
       "      <td>NaN</td>\n",
       "      <td>NaN</td>\n",
       "      <td>2025</td>\n",
       "      <td>2</td>\n",
       "    </tr>\n",
       "    <tr>\n",
       "      <th>1</th>\n",
       "      <td>11</td>\n",
       "      <td>861521</td>\n",
       "      <td>ABAD CONDORI, DANITZA ROCIO</td>\n",
       "      <td>MEDICINA HUMANA</td>\n",
       "      <td>1127.875</td>\n",
       "      <td>NaN</td>\n",
       "      <td>NaN</td>\n",
       "      <td>2025</td>\n",
       "      <td>2</td>\n",
       "    </tr>\n",
       "    <tr>\n",
       "      <th>2</th>\n",
       "      <td>11</td>\n",
       "      <td>866556</td>\n",
       "      <td>ABAD GOMEZ, EVELYN DAYANNA</td>\n",
       "      <td>MEDICINA HUMANA</td>\n",
       "      <td>818.875</td>\n",
       "      <td>NaN</td>\n",
       "      <td>NaN</td>\n",
       "      <td>2025</td>\n",
       "      <td>2</td>\n",
       "    </tr>\n",
       "    <tr>\n",
       "      <th>3</th>\n",
       "      <td>11</td>\n",
       "      <td>867339</td>\n",
       "      <td>ABAN CASTILLO, THALIA XIMENA</td>\n",
       "      <td>MEDICINA HUMANA</td>\n",
       "      <td>504.250</td>\n",
       "      <td>NaN</td>\n",
       "      <td>NaN</td>\n",
       "      <td>2025</td>\n",
       "      <td>2</td>\n",
       "    </tr>\n",
       "    <tr>\n",
       "      <th>4</th>\n",
       "      <td>11</td>\n",
       "      <td>876347</td>\n",
       "      <td>ABANTO BENITES, SAMANTHA SOFIA</td>\n",
       "      <td>MEDICINA HUMANA</td>\n",
       "      <td>775.875</td>\n",
       "      <td>NaN</td>\n",
       "      <td>NaN</td>\n",
       "      <td>2025</td>\n",
       "      <td>2</td>\n",
       "    </tr>\n",
       "    <tr>\n",
       "      <th>...</th>\n",
       "      <td>...</td>\n",
       "      <td>...</td>\n",
       "      <td>...</td>\n",
       "      <td>...</td>\n",
       "      <td>...</td>\n",
       "      <td>...</td>\n",
       "      <td>...</td>\n",
       "      <td>...</td>\n",
       "      <td>...</td>\n",
       "    </tr>\n",
       "    <tr>\n",
       "      <th>17789</th>\n",
       "      <td>203</td>\n",
       "      <td>251118</td>\n",
       "      <td>VEGA ISUIZA, REYNALDO MAURICIO</td>\n",
       "      <td>CIENCIA DE LA COMPUTACIÓN</td>\n",
       "      <td>1321.375</td>\n",
       "      <td>6.0</td>\n",
       "      <td>ALCANZO VACANTE</td>\n",
       "      <td>2025</td>\n",
       "      <td>2</td>\n",
       "    </tr>\n",
       "    <tr>\n",
       "      <th>17790</th>\n",
       "      <td>203</td>\n",
       "      <td>288063</td>\n",
       "      <td>VILCAS OTAÑE, WILLIAMS JEFFREY</td>\n",
       "      <td>CIENCIA DE LA COMPUTACIÓN</td>\n",
       "      <td>1083.625</td>\n",
       "      <td>NaN</td>\n",
       "      <td>NaN</td>\n",
       "      <td>2025</td>\n",
       "      <td>2</td>\n",
       "    </tr>\n",
       "    <tr>\n",
       "      <th>17791</th>\n",
       "      <td>203</td>\n",
       "      <td>225656</td>\n",
       "      <td>WALDE NUREÑA, GABRIEL SEBASTIAN FRANCISCO</td>\n",
       "      <td>CIENCIA DE LA COMPUTACIÓN</td>\n",
       "      <td>1108.750</td>\n",
       "      <td>NaN</td>\n",
       "      <td>NaN</td>\n",
       "      <td>2025</td>\n",
       "      <td>2</td>\n",
       "    </tr>\n",
       "    <tr>\n",
       "      <th>17792</th>\n",
       "      <td>203</td>\n",
       "      <td>297750</td>\n",
       "      <td>ZARATE FERNANDEZ, NIKOLE RUBY</td>\n",
       "      <td>CIENCIA DE LA COMPUTACIÓN</td>\n",
       "      <td>1032.625</td>\n",
       "      <td>NaN</td>\n",
       "      <td>NaN</td>\n",
       "      <td>2025</td>\n",
       "      <td>2</td>\n",
       "    </tr>\n",
       "    <tr>\n",
       "      <th>17793</th>\n",
       "      <td>203</td>\n",
       "      <td>249967</td>\n",
       "      <td>ZAVALA ACOSTA, VICTOR HUGO</td>\n",
       "      <td>CIENCIA DE LA COMPUTACIÓN</td>\n",
       "      <td>900.125</td>\n",
       "      <td>NaN</td>\n",
       "      <td>NaN</td>\n",
       "      <td>2025</td>\n",
       "      <td>2</td>\n",
       "    </tr>\n",
       "  </tbody>\n",
       "</table>\n",
       "<p>27630 rows × 9 columns</p>\n",
       "</div>"
      ],
      "text/plain": [
       "       CODIGO_ESCUELA  CODIGO                          APELLIDOS_NOMBRES  \\\n",
       "0                  11  877220          ABAD CONCHA, MIKHAIL MARED MARZUK   \n",
       "1                  11  861521                ABAD CONDORI, DANITZA ROCIO   \n",
       "2                  11  866556                 ABAD GOMEZ, EVELYN DAYANNA   \n",
       "3                  11  867339               ABAN CASTILLO, THALIA XIMENA   \n",
       "4                  11  876347             ABANTO BENITES, SAMANTHA SOFIA   \n",
       "...               ...     ...                                        ...   \n",
       "17789             203  251118             VEGA ISUIZA, REYNALDO MAURICIO   \n",
       "17790             203  288063             VILCAS OTAÑE, WILLIAMS JEFFREY   \n",
       "17791             203  225656  WALDE NUREÑA, GABRIEL SEBASTIAN FRANCISCO   \n",
       "17792             203  297750              ZARATE FERNANDEZ, NIKOLE RUBY   \n",
       "17793             203  249967                 ZAVALA ACOSTA, VICTOR HUGO   \n",
       "\n",
       "             ESCUELA_PROFESIONAL   PUNTAJE  MERITO              OBS  ANIO  \\\n",
       "0                MEDICINA HUMANA  1098.125     NaN              NaN  2025   \n",
       "1                MEDICINA HUMANA  1127.875     NaN              NaN  2025   \n",
       "2                MEDICINA HUMANA   818.875     NaN              NaN  2025   \n",
       "3                MEDICINA HUMANA   504.250     NaN              NaN  2025   \n",
       "4                MEDICINA HUMANA   775.875     NaN              NaN  2025   \n",
       "...                          ...       ...     ...              ...   ...   \n",
       "17789  CIENCIA DE LA COMPUTACIÓN  1321.375     6.0  ALCANZO VACANTE  2025   \n",
       "17790  CIENCIA DE LA COMPUTACIÓN  1083.625     NaN              NaN  2025   \n",
       "17791  CIENCIA DE LA COMPUTACIÓN  1108.750     NaN              NaN  2025   \n",
       "17792  CIENCIA DE LA COMPUTACIÓN  1032.625     NaN              NaN  2025   \n",
       "17793  CIENCIA DE LA COMPUTACIÓN   900.125     NaN              NaN  2025   \n",
       "\n",
       "       TIPO  \n",
       "0         2  \n",
       "1         2  \n",
       "2         2  \n",
       "3         2  \n",
       "4         2  \n",
       "...     ...  \n",
       "17789     2  \n",
       "17790     2  \n",
       "17791     2  \n",
       "17792     2  \n",
       "17793     2  \n",
       "\n",
       "[27630 rows x 9 columns]"
      ]
     },
     "execution_count": 16,
     "metadata": {},
     "output_type": "execute_result"
    }
   ],
   "source": [
    "data = pd.concat([data2, data1])\n",
    "data"
   ]
  },
  {
   "cell_type": "code",
   "execution_count": 17,
   "metadata": {},
   "outputs": [
    {
     "name": "stdout",
     "output_type": "stream",
     "text": [
      "✅ Datos insertados con éxito en SQL Server\n"
     ]
    }
   ],
   "source": [
    "# 📤 Insertar los datos en la tabla (ajusta \"nombre_tabla\")\n",
    "data.to_sql(\"data_admision_20252\"\n",
    "        , engine\n",
    "        , if_exists=\"append\"\n",
    "        , index=False)\n",
    "\n",
    "print(\"✅ Datos insertados con éxito en SQL Server\")"
   ]
  }
 ],
 "metadata": {
  "kernelspec": {
   "display_name": "Python 3",
   "language": "python",
   "name": "python3"
  },
  "language_info": {
   "codemirror_mode": {
    "name": "ipython",
    "version": 3
   },
   "file_extension": ".py",
   "mimetype": "text/x-python",
   "name": "python",
   "nbconvert_exporter": "python",
   "pygments_lexer": "ipython3",
   "version": "3.11.9"
  }
 },
 "nbformat": 4,
 "nbformat_minor": 2
}
